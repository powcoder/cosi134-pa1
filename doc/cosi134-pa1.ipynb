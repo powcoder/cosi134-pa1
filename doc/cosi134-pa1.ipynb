{
 "cells": [
  {
   "cell_type": "markdown",
   "metadata": {
    "slideshow": {
     "slide_type": "slide"
    }
   },
   "source": [
    "# Train a Logistic Regression model for text classification from scratch"
   ]
  },
  {
   "cell_type": "markdown",
   "metadata": {},
   "source": [
    "**Due September 22, 2020**"
   ]
  },
  {
   "cell_type": "markdown",
   "metadata": {
    "slideshow": {
     "slide_type": "slide"
    }
   },
   "source": [
    "## Overview\n",
    "\n",
    "`Logistic Regression` (aka `Maximum Entropy`) has been one of the workhorses in natural language processing. It has also been used very widely in other fields. The model has many strengths. It is effective when you have a large number of features as it handles the correlation between features well. In addition, the time and space complexity for the model is not too taxing. All of these reasons make the Logistic Regression model a very versatile classifier for many NLP tasks. It is also a good starting point to understand more complicated neural network methods.\n",
    "\n",
    "In this assignment, we are going to use the Logistic Regression model on 2 different text classification tasks. One for name classification, and another for discourse relation classification. The name classification is a toy problem that you can use to test and debug your code."
   ]
  },
  {
   "cell_type": "markdown",
   "metadata": {
    "slideshow": {
     "slide_type": "subslide"
    }
   },
   "source": [
    "## Getting ready\n",
    "\n",
    "Download the starter code along with the datasets using the link on latte. We highly recommend reviewing the slides and the textbook before starting implementing."
   ]
  },
  {
   "cell_type": "markdown",
   "metadata": {
    "slideshow": {
     "slide_type": "slide"
    }
   },
   "source": [
    "## Task-Datasets\n",
    "\n",
    "* You should aim to complete all functions with `TODO` in its docstring\n",
    "* You are more than welcome to substantially change the starter code and/or add your new functions"
   ]
  },
  {
   "cell_type": "markdown",
   "metadata": {},
   "source": [
    "### Names Classification - Names Corpus\n",
    "* located in `data/names`\n",
    "* Your task is to use the first and last character of each name to predict whether the name is male or female.\n",
    "* The dataset is loaded and prepared for you, though you should come up with a `feature vector` for each data instance.\n",
    "* Use this for starting out and debugging your model, before moving on to the next task."
   ]
  },
  {
   "cell_type": "markdown",
   "metadata": {
    "slideshow": {
     "slide_type": "subslide"
    }
   },
   "source": [
    "### Discourse Relation Prediction - Penn Discourse TreeBank (PDTB)\n",
    "\n",
    "* located in `data/pdtb`\n",
    "* A single data instance is a possibly multi-line sentence, split into spans of (1) Arg1 (2) optional Connective (3) Arg2.\n",
    "* Your task is to predict a discourse relation (also known as **sense**) between Arg1 and Arg2.\n",
    "* Optional connectives (such as `and` and `but`), if present, often provide helpful hints during prediction\n",
    "* The complete list of labels are given to you as `SENSES` in `corpus.py` See below for details.\n",
    "* PDTB comes with pre-defined dataset splits of training, dev and test sets\n",
    "* By default, the features include separate unigrams for Arg1, Arg2 and Connectives. Use these to output a single `feature vector`."
   ]
  },
  {
   "cell_type": "code",
   "execution_count": 1,
   "metadata": {},
   "outputs": [],
   "source": [
    "# complete list of labels (senses) for PDTB: 21 in total\n",
    "SENSES = [\n",
    "    'Temporal',\n",
    "    'Temporal.Asynchronous',\n",
    "    'Temporal.Asynchronous.Precedence',\n",
    "    'Temporal.Asynchronous.Succession',\n",
    "    'Temporal.Synchrony',\n",
    "    'Contingency',\n",
    "    'Contingency.Cause',\n",
    "    'Contingency.Cause.Reason',\n",
    "    'Contingency.Cause.Result',\n",
    "    'Contingency.Condition',\n",
    "    'Comparison',\n",
    "    'Comparison.Contrast',\n",
    "    'Comparison.Concession',\n",
    "    'Expansion',\n",
    "    'Expansion.Conjunction',\n",
    "    'Expansion.Instantiation',\n",
    "    'Expansion.Restatement',\n",
    "    'Expansion.Alternative',\n",
    "    'Expansion.Alternative.Chosen alternative', # `alternative` can be safely ignored\n",
    "    'Expansion.Exception',\n",
    "    'EntRel'\n",
    "]"
   ]
  },
  {
   "cell_type": "code",
   "execution_count": 2,
   "metadata": {},
   "outputs": [],
   "source": [
    "def to_level(sense: str, level: int = 2) -> str:\n",
    "    \"\"\"converts a sense in string to a desired level\n",
    "\n",
    "    There are 3 sense levels in PDTB:\n",
    "    Level 1 senses are the single-word senses like `Temporal` and `Contingency`.\n",
    "    Level 2 senses add an additional sub-level sense on top of Level 1 senses,\n",
    "      as in `Expansion.Exception`\n",
    "    Level 3 senses adds yet another sub-level sense, as in\n",
    "      `Temporal.Asynchronous.Precedence`.\n",
    "\n",
    "    This function is used to ensure that all senses do not exceed the desired\n",
    "    sense level provided as the argument `level`. For example,\n",
    "\n",
    "    >>> to_level('Expansion.Restatement', level=1)\n",
    "    'Expansion'\n",
    "    >>> to_level('Temporal.Asynchronous.Succession', level=2)\n",
    "    'Temporal.Asynchronous'\n",
    "\n",
    "    When the input sense has a lower sense level than the desired sense level,\n",
    "    this function will retain the original sense string. For example,\n",
    "\n",
    "    >>> to_level('Expansion', level=2)\n",
    "    'Expansion'\n",
    "    >>> to_level('Comparison.Contrast', level=3)\n",
    "    'Comparison.Contrast'\n",
    "\n",
    "    Args:\n",
    "    sense (str): a sense as given in a `relaions.json` file\n",
    "    level (int): a desired sense level\n",
    "\n",
    "    Returns:\n",
    "    str: a sense below or at the desired sense level\n",
    "    \"\"\"\n",
    "    s_split = sense.split(\".\")\n",
    "    s_join = \".\".join(s_split[:level])\n",
    "    return s_join"
   ]
  },
  {
   "cell_type": "markdown",
   "metadata": {},
   "source": [
    "##### Regarding the labels (senses) of PDTB\n",
    "\n",
    "There are 3 sense levels in PDTB:\n",
    "\n",
    "1. Level 1 senses are the single-word senses like `Temporal` and `Contingency`\n",
    "2. Level 2 senses add an additional sub-level sense on top of Level 1 senses, as in `Expansion.Exception`\n",
    "3. Level 3 senses adds yet another sub-level sense, as in `Temporal.Asynchronous.Precedence`"
   ]
  },
  {
   "cell_type": "markdown",
   "metadata": {},
   "source": [
    "By default, we will convert all senses to Level 2, meaning that all Level 3 senses will be truncated. For example,"
   ]
  },
  {
   "cell_type": "code",
   "execution_count": 3,
   "metadata": {},
   "outputs": [
    {
     "data": {
      "text/plain": [
       "'Temporal.Asynchronous'"
      ]
     },
     "execution_count": 3,
     "metadata": {},
     "output_type": "execute_result"
    }
   ],
   "source": [
    "to_level('Temporal.Asynchronous.Precedence', level=2)"
   ]
  },
  {
   "cell_type": "code",
   "execution_count": 4,
   "metadata": {},
   "outputs": [
    {
     "data": {
      "text/plain": [
       "'Expansion.Alternative'"
      ]
     },
     "execution_count": 4,
     "metadata": {},
     "output_type": "execute_result"
    }
   ],
   "source": [
    "to_level('Expansion.Alternative.Chosen alternative', level=2)"
   ]
  },
  {
   "cell_type": "markdown",
   "metadata": {},
   "source": [
    "All Level 1 senses will retain the original sense, For example,"
   ]
  },
  {
   "cell_type": "code",
   "execution_count": 5,
   "metadata": {},
   "outputs": [
    {
     "data": {
      "text/plain": [
       "'Temporal'"
      ]
     },
     "execution_count": 5,
     "metadata": {},
     "output_type": "execute_result"
    }
   ],
   "source": [
    "to_level('Temporal', level=2)"
   ]
  },
  {
   "cell_type": "markdown",
   "metadata": {},
   "source": [
    "So, in practice, the reduced label space consists of 16 labels below."
   ]
  },
  {
   "cell_type": "code",
   "execution_count": 6,
   "metadata": {},
   "outputs": [
    {
     "data": {
      "text/plain": [
       "['Contingency.Condition',\n",
       " 'Expansion.Alternative',\n",
       " 'Comparison',\n",
       " 'Expansion.Exception',\n",
       " 'Expansion.Conjunction',\n",
       " 'Contingency.Cause',\n",
       " 'Expansion',\n",
       " 'Expansion.Instantiation',\n",
       " 'Temporal.Asynchronous',\n",
       " 'Expansion.Restatement',\n",
       " 'EntRel',\n",
       " 'Comparison.Concession',\n",
       " 'Comparison.Contrast',\n",
       " 'Contingency',\n",
       " 'Temporal.Synchrony',\n",
       " 'Temporal']"
      ]
     },
     "execution_count": 6,
     "metadata": {},
     "output_type": "execute_result"
    }
   ],
   "source": [
    "level_2_senses = list(set([to_level(x, level=2) for x in SENSES]))\n",
    "level_2_senses"
   ]
  },
  {
   "cell_type": "code",
   "execution_count": 7,
   "metadata": {},
   "outputs": [
    {
     "data": {
      "text/plain": [
       "16"
      ]
     },
     "execution_count": 7,
     "metadata": {},
     "output_type": "execute_result"
    }
   ],
   "source": [
    "len(level_2_senses)"
   ]
  },
  {
   "cell_type": "markdown",
   "metadata": {},
   "source": [
    "We nevertheless provide the complete list of class labels, in case you wish to train your model using Level 1 senses or Level 3 senses."
   ]
  },
  {
   "cell_type": "markdown",
   "metadata": {},
   "source": [
    "## What needs to be done\n",
    "\n",
    "A Logistic Regression model has a lot of moving parts. The list below guides you through what needs to be done. The three things you need to focus on are: **Representation**, **Learning**, and **Inference**. "
   ]
  },
  {
   "cell_type": "markdown",
   "metadata": {},
   "source": [
    "### Representation \n",
    "* Choose the feature set. \n",
    "    * Start with the feature set that is small or the learning algorithm will take a long time to run and this makes the debugging process difficult. \n",
    "    * You can ramp up the number and variety of features when your code is thoroughly tested. \n",
    "    * Basic feature set is provided as part of the starter code (see **Task-Datasets** above).\n",
    "* Choose the data structure that holds the features. \n",
    "    * We recommend sparse feature vectors (as numpy ndarray).\n",
    "    * Regardless of your choice, cache the features internally within each `Document` object as the algorithm is iterative. Featurization should be done only once.\n",
    "* Choose the data structures that hold the parameters (weights). \n",
    "    * We recommend using a $k \\times p$ matrix where $k$ is the number of labels, and $p$ is the number of linguistic features. This is equivalent to use a vector of length $k \\times p$\n"
   ]
  },
  {
   "cell_type": "markdown",
   "metadata": {},
   "source": [
    "### Learning\n",
    "* Compute the negative log-likelihood function given a minibatch of data. \n",
    "    * You will need this function to track progress of parameter fitting. \n",
    "* Compute the gradient with respect to the parameters. \n",
    "    * You will need the gradient for updating the parameters given a minibatch of data. \n",
    "* Implement the mini-batch gradient descent algorithm to train the model to obtain the best parameters."
   ]
  },
  {
   "cell_type": "markdown",
   "metadata": {},
   "source": [
    "### Classification/Inference.\n",
    "- Run prediction for a single data instance"
   ]
  },
  {
   "cell_type": "markdown",
   "metadata": {},
   "source": [
    "## Experiments\n",
    "\n",
    "In addition to implementing the mini-batch gradient descent algorithm for the Logistic Regression model, you are asked to do the following experiments to better understand the behavior of the model. For all three experiments, use the discourse relation dataset as it is a more realistic task. \n"
   ]
  },
  {
   "cell_type": "markdown",
   "metadata": {},
   "source": [
    "**Experiment 1 -- Training set size**: \n",
    "\n",
    "Does the size of the training set really matter? The mantra of machine learning tells us that the bigger the training set the better the performance. We will investigate how true this is. \n",
    "\n",
    "In this experiment, fix the feature set to something reasonable and fix the dev set and the test set. Vary the size of the training set $\\{1000, 5000, 10000$, and all} and compare the (peak) accuracy from each training set size. Make a plot of size vs accuracy. Analyze and write up a short paragraph on what you learn or observe from this experiment. "
   ]
  },
  {
   "cell_type": "markdown",
   "metadata": {},
   "source": [
    "\n",
    "**Experiment 2--- Minibatch size**: \n",
    "\n",
    "Why are we allowed to use mini-batch instead of the whole training set when updating the parameters? This is indeed the dark art of this optimization algorithm, which works well for many complicated models, including neural networks. Computing gradient is always expensive, so we want to know how much we gain from each gradient computation.\n",
    "\n",
    "In this experiment, try minibatch sizes $\\{1, 10, 50, 100, 500\\}$, using the best training size from Experiment 1. For each mini-batch size, plot the number of datapoints that you compute the gradient for  (x-axis) against the accuracy of the development set (y-axis). Analyze and write up a short paragraph on what you learn or observe from this experiment. "
   ]
  },
  {
   "cell_type": "markdown",
   "metadata": {},
   "source": [
    "**Experiment 3 -- Hyperparameter tuning**: \n",
    "\n",
    "Try different values of $\\lambda = \\{0.1, 0.5, 1.0, 10.0\\}$ for $L2$ reguarlization and observe its effect on the accuracy of the model against the development set. Make a plot of  lambda value vs accuracy on the development set. Write a short paragraph summarizing what you have oberved from this experiment.\n",
    "\n",
    "As you are doing more experiments, the number of experimental settings starts to multiply. Use your best settings from your Experiment 1 and your Experiment 2 for the tuning of the $L2$ regularization parameters. It's not advisable to vary more than one experimental variable at a time, and that'll make it hard to interpret your results. You can set up a grid search procedure to do this experiment automatically without manual intervention."
   ]
  },
  {
   "cell_type": "markdown",
   "metadata": {},
   "source": [
    "**Experiment 4 -- Feature Engineering (Extra credit for creative and effective features)**: In addition to bag-of-words features, experiment with additional features (bigrams, trigrams, etc.) to push up the performance of the model as much as you can. The addition of new features should be driven by error analysis. This process is similar to the machine learning process itself, only that it involves actual humans looking at the the errors made of the machine learning model and trying to come up with new features to fix or reduce those errors. Briefly describe what new features you have tried if they are useful.\n"
   ]
  },
  {
   "cell_type": "markdown",
   "metadata": {},
   "source": [
    "## Submission\n",
    "\n",
    "Submit the following on Latte:"
   ]
  },
  {
   "cell_type": "markdown",
   "metadata": {},
   "source": [
    "### All your code.\n",
    "But don’t include the datasets as we already have those."
   ]
  },
  {
   "cell_type": "markdown",
   "metadata": {},
   "source": [
    "### Report.\n",
    "Please include the following sections in your report:\n",
    "1. A brief explanation of your code structure\n",
    "\n",
    "2. How to run your code, and what output to expect\n",
    "\n",
    "3. Experimental settings \n",
    "(Explain clearly what feature set is being used and how you set up mini-batch gradient descent because there can be quite a bit of variations.)\n",
    "\n",
    "4. Experimental results\n",
    "\n",
    "Please keep this report no more than two pages single-spaced including graphs. \n"
   ]
  },
  {
   "cell_type": "markdown",
   "metadata": {},
   "source": [
    "## More on Mini-batch Gradient Descent\n",
    "\n",
    "In this assignment, we will train Logistic Regression models using mini-batch gradient descent. Gradient descent learns the parameter by iterative updates given a chunk of data and its gradient. \n",
    "\n",
    "If a chunk of data is the entire training set, we call it batch gradient descent. "
   ]
  },
  {
   "cell_type": "code",
   "execution_count": null,
   "metadata": {},
   "outputs": [],
   "source": [
    "while not converged:\n",
    "    gradient = compute_gradient(parameters, training_set)\n",
    "    parameters -= gradient * learning_rate"
   ]
  },
  {
   "cell_type": "markdown",
   "metadata": {},
   "source": [
    "Batch gradient descent is much slower. The gradient from the entire dataset needs to be computed for each update. This is usually not necessary. Computing gradient from a smaller subset of the data at a time usually gives the same results if done repeatedly. \n",
    "\n",
    "If a subset of the training set is used to compute the gradient, we call it mini-batch gradient descent. This approximates the gradient of batch gradient descent. "
   ]
  },
  {
   "cell_type": "code",
   "execution_count": null,
   "metadata": {},
   "outputs": [],
   "source": [
    "while not converged:\n",
    "    minibatches = chop_up(training_set)\n",
    "    for minibatch in minibatches:\n",
    "        gradient = compute_gradient(parameters, minibatch)\n",
    "        parameters -= gradient * learning_rate"
   ]
  },
  {
   "cell_type": "markdown",
   "metadata": {},
   "source": [
    "If a chunk of data is just one instance from the training set, we call it stochastic gradient descent (SGD). Each update only requires the computation of the gradient of one data instance."
   ]
  },
  {
   "cell_type": "code",
   "execution_count": null,
   "metadata": {},
   "outputs": [],
   "source": [
    "while not converged:\n",
    "    for datapoint in training_set:\n",
    "        gradient = compute_gradient(parameters, datapoint)\n",
    "        parameters -= gradient * learning_rate"
   ]
  },
  {
   "cell_type": "markdown",
   "metadata": {},
   "source": [
    "#####  Practical issues with mini-batch gradient descent\n",
    "\n",
    "- How should I initialize the parameters at the first iteration?\n",
    "\n",
    "    Set them all to zero. This is generally not advisable for more complicated models. But for the Logistic Regression model, zero initialization works perfectly. \n",
    "\n",
    "\n",
    "- How do I introduce the bias term?\n",
    "\n",
    "    Include a feature that fires in ALL data instances. And treat it as a normal feature and proceed as usual. \n",
    "\n",
    "\n",
    "- Why do the posterior P(Y|X) become NaN? \n",
    "\n",
    "    It is very likely that you exponentiate some big number and divide by the same amount i.e. if unnoramlized_score is a vector of unnormalized scores (the sum of lambdas), then:"
   ]
  },
  {
   "cell_type": "markdown",
   "metadata": {},
   "source": [
    "             posterior = exp(unnormalized_score) / sum(exp(unnormalized_score)) \n",
    "     \n",
    "   > This is no good. We have to get around by using some math tricks:\n",
    "   \n",
    "             posterior = exp(unnormalized_score - scipy.misc.logsumexp(unnormalized_score))\n",
    "     \n",
    "   > If this confuses you or you are not sure why this is correct, think about it more or ask the TAs. But we are quite confident that you will need to use the logsumexp function."
   ]
  },
  {
   "cell_type": "markdown",
   "metadata": {},
   "source": [
    "\n",
    "\n",
    "- How do you know that it converges? \n",
    "\n",
    "    It is extremely difficult to know. If you stop too early, the model has not reached its peak yet i.e. *underfitting*. If you stop too late, the model will fit too well to the training set and not generalize to the unseen data i.e. *overfitting*. But there are multiple ways to guess the convergence. We suggest this method called *early stopping*.\n",
    "\n",
    "    Every once in a while evaluate the model on the development set during gradient descent.\n",
    "\n",
    "    - If the performance is better than last evaluation, then save this set of parameters and keep going for a little more. \n",
    "    - If the performance stops going up after a few updates, stop and use the last saved parameters. (How many is a few? Up to you)\n",
    "\n",
    "\n",
    "- How often should I run evaluation on the dev set during training? \n",
    "\n",
    "    Up to you. It is actually OK to run the evaluation on the dev at every update you make to the parameters.\n",
    "\n",
    "\n",
    "- How do I know that my implementation is correct?\n",
    "\n",
    "    Look at the average negative log-likelihood. It should keep going down monotonically i.e. at every single update. You should also see that the gradient should get closer and closer to zero."
   ]
  }
 ],
 "metadata": {
  "kernelspec": {
   "display_name": "Python 3",
   "language": "python",
   "name": "python3"
  },
  "language_info": {
   "codemirror_mode": {
    "name": "ipython",
    "version": 3
   },
   "file_extension": ".py",
   "mimetype": "text/x-python",
   "name": "python",
   "nbconvert_exporter": "python",
   "pygments_lexer": "ipython3",
   "version": "3.6.5"
  }
 },
 "nbformat": 4,
 "nbformat_minor": 1
}
